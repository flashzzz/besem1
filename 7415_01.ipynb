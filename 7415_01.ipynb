{
 "cells": [
  {
   "cell_type": "code",
   "execution_count": 13,
   "id": "66d27e64",
   "metadata": {},
   "outputs": [],
   "source": [
    "import pandas as pd\n",
    "from sklearn.model_selection import train_test_split\n",
    "from sklearn.linear_model import LinearRegression, Lasso, Ridge\n",
    "from sklearn.ensemble import RandomForestRegressor\n",
    "from sklearn.preprocessing import PolynomialFeatures\n",
    "from sklearn.decomposition import PCA\n",
    "from sklearn.cross_decomposition import PLSRegression\n",
    "from sklearn.linear_model import ElasticNet\n",
    "from sklearn.utils.fixes import sp_version, parse_version\n",
    "from sklearn.linear_model import QuantileRegressor\n",
    "from sklearn.metrics import r2_score, mean_squared_error\n",
    "import numpy as np\n",
    "import matplotlib.pyplot as plt"
   ]
  },
  {
   "cell_type": "code",
   "execution_count": 14,
   "id": "1d1a4c4e",
   "metadata": {},
   "outputs": [
    {
     "data": {
      "text/html": [
       "<div>\n",
       "<style scoped>\n",
       "    .dataframe tbody tr th:only-of-type {\n",
       "        vertical-align: middle;\n",
       "    }\n",
       "\n",
       "    .dataframe tbody tr th {\n",
       "        vertical-align: top;\n",
       "    }\n",
       "\n",
       "    .dataframe thead th {\n",
       "        text-align: right;\n",
       "    }\n",
       "</style>\n",
       "<table border=\"1\" class=\"dataframe\">\n",
       "  <thead>\n",
       "    <tr style=\"text-align: right;\">\n",
       "      <th></th>\n",
       "      <th>Unnamed: 0</th>\n",
       "      <th>key</th>\n",
       "      <th>fare_amount</th>\n",
       "      <th>pickup_datetime</th>\n",
       "      <th>pickup_longitude</th>\n",
       "      <th>pickup_latitude</th>\n",
       "      <th>dropoff_longitude</th>\n",
       "      <th>dropoff_latitude</th>\n",
       "      <th>passenger_count</th>\n",
       "    </tr>\n",
       "  </thead>\n",
       "  <tbody>\n",
       "    <tr>\n",
       "      <th>0</th>\n",
       "      <td>24238194</td>\n",
       "      <td>2015-05-07 19:52:06.0000003</td>\n",
       "      <td>7.5</td>\n",
       "      <td>2015-05-07 19:52:06 UTC</td>\n",
       "      <td>-73.999817</td>\n",
       "      <td>40.738354</td>\n",
       "      <td>-73.999512</td>\n",
       "      <td>40.723217</td>\n",
       "      <td>1</td>\n",
       "    </tr>\n",
       "    <tr>\n",
       "      <th>1</th>\n",
       "      <td>27835199</td>\n",
       "      <td>2009-07-17 20:04:56.0000002</td>\n",
       "      <td>7.7</td>\n",
       "      <td>2009-07-17 20:04:56 UTC</td>\n",
       "      <td>-73.994355</td>\n",
       "      <td>40.728225</td>\n",
       "      <td>-73.994710</td>\n",
       "      <td>40.750325</td>\n",
       "      <td>1</td>\n",
       "    </tr>\n",
       "    <tr>\n",
       "      <th>2</th>\n",
       "      <td>44984355</td>\n",
       "      <td>2009-08-24 21:45:00.00000061</td>\n",
       "      <td>12.9</td>\n",
       "      <td>2009-08-24 21:45:00 UTC</td>\n",
       "      <td>-74.005043</td>\n",
       "      <td>40.740770</td>\n",
       "      <td>-73.962565</td>\n",
       "      <td>40.772647</td>\n",
       "      <td>1</td>\n",
       "    </tr>\n",
       "    <tr>\n",
       "      <th>3</th>\n",
       "      <td>25894730</td>\n",
       "      <td>2009-06-26 08:22:21.0000001</td>\n",
       "      <td>5.3</td>\n",
       "      <td>2009-06-26 08:22:21 UTC</td>\n",
       "      <td>-73.976124</td>\n",
       "      <td>40.790844</td>\n",
       "      <td>-73.965316</td>\n",
       "      <td>40.803349</td>\n",
       "      <td>3</td>\n",
       "    </tr>\n",
       "    <tr>\n",
       "      <th>4</th>\n",
       "      <td>17610152</td>\n",
       "      <td>2014-08-28 17:47:00.000000188</td>\n",
       "      <td>16.0</td>\n",
       "      <td>2014-08-28 17:47:00 UTC</td>\n",
       "      <td>-73.925023</td>\n",
       "      <td>40.744085</td>\n",
       "      <td>-73.973082</td>\n",
       "      <td>40.761247</td>\n",
       "      <td>5</td>\n",
       "    </tr>\n",
       "  </tbody>\n",
       "</table>\n",
       "</div>"
      ],
      "text/plain": [
       "   Unnamed: 0                            key  fare_amount  \\\n",
       "0    24238194    2015-05-07 19:52:06.0000003          7.5   \n",
       "1    27835199    2009-07-17 20:04:56.0000002          7.7   \n",
       "2    44984355   2009-08-24 21:45:00.00000061         12.9   \n",
       "3    25894730    2009-06-26 08:22:21.0000001          5.3   \n",
       "4    17610152  2014-08-28 17:47:00.000000188         16.0   \n",
       "\n",
       "           pickup_datetime  pickup_longitude  pickup_latitude  \\\n",
       "0  2015-05-07 19:52:06 UTC        -73.999817        40.738354   \n",
       "1  2009-07-17 20:04:56 UTC        -73.994355        40.728225   \n",
       "2  2009-08-24 21:45:00 UTC        -74.005043        40.740770   \n",
       "3  2009-06-26 08:22:21 UTC        -73.976124        40.790844   \n",
       "4  2014-08-28 17:47:00 UTC        -73.925023        40.744085   \n",
       "\n",
       "   dropoff_longitude  dropoff_latitude  passenger_count  \n",
       "0         -73.999512         40.723217                1  \n",
       "1         -73.994710         40.750325                1  \n",
       "2         -73.962565         40.772647                1  \n",
       "3         -73.965316         40.803349                3  \n",
       "4         -73.973082         40.761247                5  "
      ]
     },
     "execution_count": 14,
     "metadata": {},
     "output_type": "execute_result"
    }
   ],
   "source": [
    "df = pd.read_csv(\"uber.csv\")\n",
    "df.head()"
   ]
  },
  {
   "cell_type": "code",
   "execution_count": 15,
   "id": "b93a5912",
   "metadata": {
    "scrolled": true
   },
   "outputs": [
    {
     "name": "stdout",
     "output_type": "stream",
     "text": [
      "<class 'pandas.core.frame.DataFrame'>\n",
      "RangeIndex: 200000 entries, 0 to 199999\n",
      "Data columns (total 9 columns):\n",
      " #   Column             Non-Null Count   Dtype  \n",
      "---  ------             --------------   -----  \n",
      " 0   Unnamed: 0         200000 non-null  int64  \n",
      " 1   key                200000 non-null  object \n",
      " 2   fare_amount        200000 non-null  float64\n",
      " 3   pickup_datetime    200000 non-null  object \n",
      " 4   pickup_longitude   200000 non-null  float64\n",
      " 5   pickup_latitude    200000 non-null  float64\n",
      " 6   dropoff_longitude  199999 non-null  float64\n",
      " 7   dropoff_latitude   199999 non-null  float64\n",
      " 8   passenger_count    200000 non-null  int64  \n",
      "dtypes: float64(5), int64(2), object(2)\n",
      "memory usage: 13.7+ MB\n"
     ]
    }
   ],
   "source": [
    "df.info()"
   ]
  },
  {
   "cell_type": "code",
   "execution_count": 16,
   "id": "7aea7986",
   "metadata": {},
   "outputs": [],
   "source": [
    "# data preprocessing\n",
    "\n",
    "df.drop(['Unnamed: 0','key'],axis =1,inplace = True)\n",
    "df.fillna(method='ffill', inplace=True)\n",
    "df.drop(df[df['fare_amount'].values<=0].index,inplace=True)\n",
    "df.drop(df[df['passenger_count']>10].index,inplace=True)\n",
    "df['pickup_datetime'] = pd.to_datetime(df['pickup_datetime'])\n",
    "df['day_of_week'] = df['pickup_datetime'].dt.dayofweek"
   ]
  },
  {
   "cell_type": "code",
   "execution_count": 17,
   "id": "65bd8c5e",
   "metadata": {},
   "outputs": [],
   "source": [
    "# basic preparation\n",
    "\n",
    "model_metrics = {}\n",
    "X = df[['passenger_count', 'pickup_longitude', 'pickup_latitude', 'dropoff_longitude', 'dropoff_latitude', 'day_of_week']]\n",
    "y = df['fare_amount']\n",
    "X_train, X_test, y_train, y_test = train_test_split(X, y, test_size=0.3, random_state=42)"
   ]
  },
  {
   "cell_type": "code",
   "execution_count": 18,
   "id": "5247fd0b",
   "metadata": {},
   "outputs": [],
   "source": [
    "# helper function\n",
    "\n",
    "def Result(model_type, y_pred):\n",
    "    r2 = r2_score(y_test, y_pred)\n",
    "    rmse = np.sqrt(mean_squared_error(y_test, y_pred))\n",
    "    print(f\"R-squared : {r2}, RMSE : {rmse}\")\n",
    "    model_metrics[model_type] = {'R-squared': r2, 'RMSE': rmse}"
   ]
  },
  {
   "cell_type": "code",
   "execution_count": 19,
   "id": "9d747ed8",
   "metadata": {},
   "outputs": [
    {
     "name": "stdout",
     "output_type": "stream",
     "text": [
      "R-squared : 0.0001853947909385978, RMSE : 9.739644782551816\n"
     ]
    }
   ],
   "source": [
    "# Linear regression\n",
    "\n",
    "linear_reg_model = LinearRegression()\n",
    "linear_reg_model.fit(X_train,y_train)\n",
    "y_pred_linear = linear_reg_model.predict(X_test)\n",
    "Result(\"Linear Regression\", y_pred_linear)"
   ]
  },
  {
   "cell_type": "code",
   "execution_count": 20,
   "id": "f03e931d",
   "metadata": {},
   "outputs": [
    {
     "name": "stdout",
     "output_type": "stream",
     "text": [
      "R-squared : 3.361237134624773e-05, RMSE : 9.740384044982056\n"
     ]
    }
   ],
   "source": [
    "# Lasso regression\n",
    "\n",
    "lasso_model = Lasso(alpha=1.0)\n",
    "lasso_model.fit(X_train, y_train)\n",
    "y_pred_lasso = lasso_model.predict(X_test)\n",
    "Result(\"Lasso Regression\", y_pred_lasso)"
   ]
  },
  {
   "cell_type": "code",
   "execution_count": 21,
   "id": "a069134c",
   "metadata": {},
   "outputs": [
    {
     "name": "stdout",
     "output_type": "stream",
     "text": [
      "R-squared : 0.00018539496001879208, RMSE : 9.739644781728273\n"
     ]
    }
   ],
   "source": [
    "# Ridge regression\n",
    "\n",
    "ridge_model = Ridge(alpha=1.0)\n",
    "ridge_model.fit(X_train, y_train)\n",
    "y_pred_ridge = ridge_model.predict(X_test)\n",
    "Result(\"Ridge Regression\", y_pred_ridge)"
   ]
  },
  {
   "cell_type": "code",
   "execution_count": 22,
   "id": "bb4f4782",
   "metadata": {},
   "outputs": [
    {
     "name": "stdout",
     "output_type": "stream",
     "text": [
      "R-squared : 0.0001853947909385978, RMSE : 9.739644782551816\n"
     ]
    }
   ],
   "source": [
    "# Polynomial regression\n",
    "\n",
    "degree = 1\n",
    "poly = PolynomialFeatures(degree=degree)\n",
    "X_train_poly = poly.fit_transform(X_train)\n",
    "X_test_poly = poly.transform(X_test)\n",
    "linear_poly_model = LinearRegression()\n",
    "linear_poly_model.fit(X_train_poly, y_train)\n",
    "y_pred_poly = linear_poly_model.predict(X_test_poly)\n",
    "Result(\"Polynomial Regression\", y_pred_poly)"
   ]
  },
  {
   "cell_type": "code",
   "execution_count": 23,
   "id": "ca875f58",
   "metadata": {},
   "outputs": [
    {
     "name": "stdout",
     "output_type": "stream",
     "text": [
      "R-squared : 0.0001853947909385978, RMSE : 9.739644782551816\n"
     ]
    }
   ],
   "source": [
    "# Principle Component Regression\n",
    "\n",
    "n_components = 6\n",
    "pca = PCA(n_components=n_components)\n",
    "X_train_pca = pca.fit_transform(X_train)\n",
    "X_test_pca = pca.transform(X_test)\n",
    "linear_pca_model = LinearRegression()\n",
    "linear_pca_model.fit(X_train_pca, y_train)\n",
    "y_pred_pca = linear_pca_model.predict(X_test_pca)\n",
    "Result(\"Principle Component Regression\", y_pred_pca)"
   ]
  },
  {
   "cell_type": "code",
   "execution_count": 26,
   "id": "ff9fc3fa",
   "metadata": {},
   "outputs": [],
   "source": [
    "# # Quantile Regressor\n",
    "\n",
    "# solver = \"highs\" if sp_version >= parse_version(\"1.6.0\") else \"interior-point\"\n",
    "# quantile_model = QuantileRegressor(alpha=0, solver=solver)\n",
    "# quantile_model.fit(X_train, y_train)\n",
    "# y_pred_quantile = quantile_model.predict(X_test)\n",
    "# Result(\"Quantile Regressor\", y_pred_quantile)"
   ]
  },
  {
   "cell_type": "code",
   "execution_count": 27,
   "id": "2451101e",
   "metadata": {},
   "outputs": [
    {
     "name": "stdout",
     "output_type": "stream",
     "text": [
      "R-squared : 0.0001853947909385978, RMSE : 9.739644782551816\n"
     ]
    }
   ],
   "source": [
    "# Random Forest\n",
    "\n",
    "rf_model = RandomForestRegressor(n_estimators=100, random_state=42)\n",
    "rf_model.fit(X_train,y_train)\n",
    "y_pred_rf=linear_reg_model.predict(X_test)\n",
    "Result(\"Random Forest\", y_pred_rf)"
   ]
  },
  {
   "cell_type": "code",
   "execution_count": 28,
   "id": "4caeab56",
   "metadata": {},
   "outputs": [
    {
     "name": "stdout",
     "output_type": "stream",
     "text": [
      "R-squared : 0.0002669698002579768, RMSE : 9.73924744497718\n"
     ]
    }
   ],
   "source": [
    "# PLSRegression\n",
    "\n",
    "pls_model = PLSRegression(n_components=2)\n",
    "pls_model.fit(X_train, y_train)\n",
    "y_pred_pls = pls_model.predict(X_test)\n",
    "\n",
    "Result(\"PLSRegression\", y_pred_pls)"
   ]
  },
  {
   "cell_type": "code",
   "execution_count": 29,
   "id": "7062c461",
   "metadata": {},
   "outputs": [
    {
     "name": "stdout",
     "output_type": "stream",
     "text": [
      "R-squared : 6.623837311980907e-05, RMSE : 9.740225143451346\n"
     ]
    }
   ],
   "source": [
    "# Elastic Net\n",
    "\n",
    "elastic_net_model = ElasticNet(alpha=0.5, l1_ratio=0.5)\n",
    "elastic_net_model.fit(X_train, y_train)\n",
    "y_pred_elastic = elastic_net_model.predict(X_test)\n",
    "\n",
    "Result(\"Elastic Net\", y_pred_elastic)"
   ]
  },
  {
   "cell_type": "code",
   "execution_count": 30,
   "id": "10852f8e",
   "metadata": {},
   "outputs": [
    {
     "name": "stdout",
     "output_type": "stream",
     "text": [
      "           Linear Regression  Lasso Regression  Ridge Regression  \\\n",
      "R-squared           0.000185          0.000034          0.000185   \n",
      "RMSE                9.739645          9.740384          9.739645   \n",
      "\n",
      "           Polynomial Regression  Principle Component Regression  \\\n",
      "R-squared               0.000185                        0.000185   \n",
      "RMSE                    9.739645                        9.739645   \n",
      "\n",
      "           Random Forest  PLSRegression  Elastic Net  \n",
      "R-squared       0.000185       0.000267     0.000066  \n",
      "RMSE            9.739645       9.739247     9.740225  \n"
     ]
    }
   ],
   "source": [
    "r_df = pd.DataFrame(model_metrics)\n",
    "print(r_df)"
   ]
  },
  {
   "cell_type": "code",
   "execution_count": 33,
   "id": "71f3c6d8",
   "metadata": {},
   "outputs": [
    {
     "name": "stdout",
     "output_type": "stream",
     "text": [
      "(2, 8)\n",
      "R-squared    0.000185\n",
      "RMSE         9.739645\n",
      "Name: Linear Regression, dtype: float64\n"
     ]
    }
   ],
   "source": [
    "print(r_df.shape)\n",
    "print(r_df[\"Linear Regression\"])\n",
    "\n",
    "# for i in range(len(r_df[0])):\n",
    "#     plt.plot(fpers[i], tpers[i], linestyle='--', label=algos[i])\n",
    "\n",
    "# plt.title('ROC Plot')\n",
    "# plt.xlabel('False Positive Rate')\n",
    "# plt.ylabel('True Positive Rate')\n",
    "# plt.legend()\n",
    "# plt.show()"
   ]
  },
  {
   "cell_type": "code",
   "execution_count": null,
   "id": "c244c384",
   "metadata": {},
   "outputs": [],
   "source": []
  }
 ],
 "metadata": {
  "kernelspec": {
   "display_name": "Python 3 (ipykernel)",
   "language": "python",
   "name": "python3"
  },
  "language_info": {
   "codemirror_mode": {
    "name": "ipython",
    "version": 3
   },
   "file_extension": ".py",
   "mimetype": "text/x-python",
   "name": "python",
   "nbconvert_exporter": "python",
   "pygments_lexer": "ipython3",
   "version": "3.9.12"
  }
 },
 "nbformat": 4,
 "nbformat_minor": 5
}
